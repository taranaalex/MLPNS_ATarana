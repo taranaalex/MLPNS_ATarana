{
  "nbformat": 4,
  "nbformat_minor": 0,
  "metadata": {
    "colab": {
      "provenance": [],
      "toc_visible": true,
      "authorship_tag": "ABX9TyOzIERe2aRpFmz0dzLOfJvY",
      "include_colab_link": true
    },
    "kernelspec": {
      "name": "python3",
      "display_name": "Python 3"
    },
    "language_info": {
      "name": "python"
    }
  },
  "cells": [
    {
      "cell_type": "markdown",
      "metadata": {
        "id": "view-in-github",
        "colab_type": "text"
      },
      "source": [
        "<a href=\"https://colab.research.google.com/github/taranaalex/MLPNS_ATarana/blob/main/linreg_grb.ipynb\" target=\"_parent\"><img src=\"https://colab.research.google.com/assets/colab-badge.svg\" alt=\"Open In Colab\"/></a>"
      ]
    },
    {
      "cell_type": "code",
      "execution_count": null,
      "metadata": {
        "colab": {
          "base_uri": "https://localhost:8080/"
        },
        "id": "AmmweU2G-mzU",
        "outputId": "f0c1b834-0b0a-4efa-dd68-9d09e4f43eb4"
      },
      "outputs": [
        {
          "output_type": "stream",
          "name": "stdout",
          "text": [
            "Populating the interactive namespace from numpy and matplotlib\n"
          ]
        }
      ],
      "source": [
        "import pandas as pd\n",
        "import pylab as pl\n",
        "import numpy as np\n",
        "%pylab inline\n",
        "\n",
        "# I have created a stylesheet to define default plot behaviors. \n",
        "# This stylesheet changes the default parameters stored in the dictionary matplitlib.rcParams\n",
        "# pl.style.use(\"https://raw.githubusercontent.com/fedhere/MLTSA22_FBianco/master/fbb.mplstyle\")\n",
        "pl.rcParams['font.size'] = 20"
      ]
    },
    {
      "cell_type": "code",
      "source": [
        "grbAG = pd.read_csv('https://raw.githubusercontent.com/fedhere/MLPNS_FBianco/main/linearRegression/grb050525A.csv')"
      ],
      "metadata": {
        "id": "CbwZj30w-9ZJ"
      },
      "execution_count": null,
      "outputs": []
    },
    {
      "cell_type": "code",
      "source": [
        "grbAG.head()"
      ],
      "metadata": {
        "colab": {
          "base_uri": "https://localhost:8080/",
          "height": 206
        },
        "id": "9OdQ6hvt_Tai",
        "outputId": "8063baae-125f-4db6-9244-2bb74ce94efa"
      },
      "execution_count": null,
      "outputs": [
        {
          "output_type": "execute_result",
          "data": {
            "text/plain": [
              "  filter  time    mag  magerr  upperlimit\n",
              "0      V    66  13.21    0.24           0\n",
              "1      V    67  12.90    0.23           0\n",
              "2      V    68  12.86    0.23           0\n",
              "3      V    69  13.01    0.23           0\n",
              "4      V    70  12.97    0.23           0"
            ],
            "text/html": [
              "\n",
              "  <div id=\"df-26bd7aef-f4cf-42fc-896c-7964251ec468\">\n",
              "    <div class=\"colab-df-container\">\n",
              "      <div>\n",
              "<style scoped>\n",
              "    .dataframe tbody tr th:only-of-type {\n",
              "        vertical-align: middle;\n",
              "    }\n",
              "\n",
              "    .dataframe tbody tr th {\n",
              "        vertical-align: top;\n",
              "    }\n",
              "\n",
              "    .dataframe thead th {\n",
              "        text-align: right;\n",
              "    }\n",
              "</style>\n",
              "<table border=\"1\" class=\"dataframe\">\n",
              "  <thead>\n",
              "    <tr style=\"text-align: right;\">\n",
              "      <th></th>\n",
              "      <th>filter</th>\n",
              "      <th>time</th>\n",
              "      <th>mag</th>\n",
              "      <th>magerr</th>\n",
              "      <th>upperlimit</th>\n",
              "    </tr>\n",
              "  </thead>\n",
              "  <tbody>\n",
              "    <tr>\n",
              "      <th>0</th>\n",
              "      <td>V</td>\n",
              "      <td>66</td>\n",
              "      <td>13.21</td>\n",
              "      <td>0.24</td>\n",
              "      <td>0</td>\n",
              "    </tr>\n",
              "    <tr>\n",
              "      <th>1</th>\n",
              "      <td>V</td>\n",
              "      <td>67</td>\n",
              "      <td>12.90</td>\n",
              "      <td>0.23</td>\n",
              "      <td>0</td>\n",
              "    </tr>\n",
              "    <tr>\n",
              "      <th>2</th>\n",
              "      <td>V</td>\n",
              "      <td>68</td>\n",
              "      <td>12.86</td>\n",
              "      <td>0.23</td>\n",
              "      <td>0</td>\n",
              "    </tr>\n",
              "    <tr>\n",
              "      <th>3</th>\n",
              "      <td>V</td>\n",
              "      <td>69</td>\n",
              "      <td>13.01</td>\n",
              "      <td>0.23</td>\n",
              "      <td>0</td>\n",
              "    </tr>\n",
              "    <tr>\n",
              "      <th>4</th>\n",
              "      <td>V</td>\n",
              "      <td>70</td>\n",
              "      <td>12.97</td>\n",
              "      <td>0.23</td>\n",
              "      <td>0</td>\n",
              "    </tr>\n",
              "  </tbody>\n",
              "</table>\n",
              "</div>\n",
              "      <button class=\"colab-df-convert\" onclick=\"convertToInteractive('df-26bd7aef-f4cf-42fc-896c-7964251ec468')\"\n",
              "              title=\"Convert this dataframe to an interactive table.\"\n",
              "              style=\"display:none;\">\n",
              "        \n",
              "  <svg xmlns=\"http://www.w3.org/2000/svg\" height=\"24px\"viewBox=\"0 0 24 24\"\n",
              "       width=\"24px\">\n",
              "    <path d=\"M0 0h24v24H0V0z\" fill=\"none\"/>\n",
              "    <path d=\"M18.56 5.44l.94 2.06.94-2.06 2.06-.94-2.06-.94-.94-2.06-.94 2.06-2.06.94zm-11 1L8.5 8.5l.94-2.06 2.06-.94-2.06-.94L8.5 2.5l-.94 2.06-2.06.94zm10 10l.94 2.06.94-2.06 2.06-.94-2.06-.94-.94-2.06-.94 2.06-2.06.94z\"/><path d=\"M17.41 7.96l-1.37-1.37c-.4-.4-.92-.59-1.43-.59-.52 0-1.04.2-1.43.59L10.3 9.45l-7.72 7.72c-.78.78-.78 2.05 0 2.83L4 21.41c.39.39.9.59 1.41.59.51 0 1.02-.2 1.41-.59l7.78-7.78 2.81-2.81c.8-.78.8-2.07 0-2.86zM5.41 20L4 18.59l7.72-7.72 1.47 1.35L5.41 20z\"/>\n",
              "  </svg>\n",
              "      </button>\n",
              "      \n",
              "  <style>\n",
              "    .colab-df-container {\n",
              "      display:flex;\n",
              "      flex-wrap:wrap;\n",
              "      gap: 12px;\n",
              "    }\n",
              "\n",
              "    .colab-df-convert {\n",
              "      background-color: #E8F0FE;\n",
              "      border: none;\n",
              "      border-radius: 50%;\n",
              "      cursor: pointer;\n",
              "      display: none;\n",
              "      fill: #1967D2;\n",
              "      height: 32px;\n",
              "      padding: 0 0 0 0;\n",
              "      width: 32px;\n",
              "    }\n",
              "\n",
              "    .colab-df-convert:hover {\n",
              "      background-color: #E2EBFA;\n",
              "      box-shadow: 0px 1px 2px rgba(60, 64, 67, 0.3), 0px 1px 3px 1px rgba(60, 64, 67, 0.15);\n",
              "      fill: #174EA6;\n",
              "    }\n",
              "\n",
              "    [theme=dark] .colab-df-convert {\n",
              "      background-color: #3B4455;\n",
              "      fill: #D2E3FC;\n",
              "    }\n",
              "\n",
              "    [theme=dark] .colab-df-convert:hover {\n",
              "      background-color: #434B5C;\n",
              "      box-shadow: 0px 1px 3px 1px rgba(0, 0, 0, 0.15);\n",
              "      filter: drop-shadow(0px 1px 2px rgba(0, 0, 0, 0.3));\n",
              "      fill: #FFFFFF;\n",
              "    }\n",
              "  </style>\n",
              "\n",
              "      <script>\n",
              "        const buttonEl =\n",
              "          document.querySelector('#df-26bd7aef-f4cf-42fc-896c-7964251ec468 button.colab-df-convert');\n",
              "        buttonEl.style.display =\n",
              "          google.colab.kernel.accessAllowed ? 'block' : 'none';\n",
              "\n",
              "        async function convertToInteractive(key) {\n",
              "          const element = document.querySelector('#df-26bd7aef-f4cf-42fc-896c-7964251ec468');\n",
              "          const dataTable =\n",
              "            await google.colab.kernel.invokeFunction('convertToInteractive',\n",
              "                                                     [key], {});\n",
              "          if (!dataTable) return;\n",
              "\n",
              "          const docLinkHtml = 'Like what you see? Visit the ' +\n",
              "            '<a target=\"_blank\" href=https://colab.research.google.com/notebooks/data_table.ipynb>data table notebook</a>'\n",
              "            + ' to learn more about interactive tables.';\n",
              "          element.innerHTML = '';\n",
              "          dataTable['output_type'] = 'display_data';\n",
              "          await google.colab.output.renderOutput(dataTable, element);\n",
              "          const docLink = document.createElement('div');\n",
              "          docLink.innerHTML = docLinkHtml;\n",
              "          element.appendChild(docLink);\n",
              "        }\n",
              "      </script>\n",
              "    </div>\n",
              "  </div>\n",
              "  "
            ]
          },
          "metadata": {},
          "execution_count": 3
        }
      ]
    },
    {
      "cell_type": "code",
      "source": [
        "grbAG['logtime'] = numpy.log10(grbAG.time)"
      ],
      "metadata": {
        "id": "UawebTCD_eRC"
      },
      "execution_count": null,
      "outputs": []
    },
    {
      "cell_type": "code",
      "source": [
        "grbAG.logtime"
      ],
      "metadata": {
        "colab": {
          "base_uri": "https://localhost:8080/"
        },
        "id": "wo6pMmzK_9IV",
        "outputId": "35a69388-6830-44ec-9b61-5a3ad15fe5da"
      },
      "execution_count": null,
      "outputs": [
        {
          "output_type": "execute_result",
          "data": {
            "text/plain": [
              "0      1.819544\n",
              "1      1.826075\n",
              "2      1.832509\n",
              "3      1.838849\n",
              "4      1.845098\n",
              "         ...   \n",
              "114    4.804398\n",
              "115    4.873890\n",
              "116    5.110347\n",
              "117    5.987380\n",
              "118    6.068622\n",
              "Name: logtime, Length: 119, dtype: float64"
            ]
          },
          "metadata": {},
          "execution_count": 5
        }
      ]
    },
    {
      "cell_type": "markdown",
      "source": [
        "# Task 1"
      ],
      "metadata": {
        "id": "UfdNAIvPKyNX"
      }
    },
    {
      "cell_type": "code",
      "source": [
        "#create a figure container and an axis object inside of it\n",
        "ax = pl.figure(figsize=(10,10)).add_subplot(111)\n",
        "    \n",
        "#loop on every filter to plot - this will give differnt colors naturally. \n",
        "#Use pl.errorbar to plot the uncertainties\n",
        "\n",
        "for f in grbAG[\"filter\"].unique():\n",
        "    pl.errorbar(grbAG.loc[grbAG['filter'] == f].logtime,\n",
        "                grbAG[grbAG['filter'] == f].mag, fmt='o',\n",
        "                yerr=grbAG[grbAG['filter'] == f].magerr, label=f, alpha=0.5)\n",
        "    \n",
        "\n",
        "# plot the upperlimits as arrows \n",
        "for i in grbAG[grbAG.upperlimit == 1].index:\n",
        "    pl.arrow(grbAG.loc[i].logtime, \n",
        "             grbAG.loc[i].magerr, 0, 2, \n",
        "            head_width=0.05, head_length=0.1, ec='k')\n",
        "\n",
        "# I am going to invert the y axis because the \"magnitude\" measurement is an inverse scale: brighter is smaller\n",
        "pl.gca().invert_yaxis()\n",
        "pl.legend()\n",
        "\n",
        "#Always rememebr you axis labels!!\n",
        "pl.ylabel(\"magnitude\", fontsize=20)\n",
        "pl.xlabel(\"log time (sec after explosion)\", fontsize=20);"
      ],
      "metadata": {
        "colab": {
          "base_uri": "https://localhost:8080/",
          "height": 624
        },
        "id": "5sJ8TBhAAKqa",
        "outputId": "d122bba8-af84-462e-93b8-26145d83fe11"
      },
      "execution_count": null,
      "outputs": [
        {
          "output_type": "display_data",
          "data": {
            "text/plain": [
              "<Figure size 720x720 with 1 Axes>"
            ],
            "image/png": "[encoded data removed]"
          },
          "metadata": {
            "needs_background": "light"
          }
        }
      ]
    },
    {
      "cell_type": "markdown",
      "source": [
        "# Task 2a"
      ],
      "metadata": {
        "id": "UQ6QNXNfK3-2"
      }
    },
    {
      "cell_type": "code",
      "source": [
        "grbAGnu = grbAG[grbAG.upperlimit == 0]\n",
        "x = grbAGnu.logtime.values\n",
        "X = np.c_[np.ones((len(grbAGnu), 1)), #creo la \"nuova\" variabile come matrice Nx2 \n",
        "          x]\n",
        "\n",
        "y = grbAGnu.mag\n",
        "\n",
        "print(\"shape of the input array X\", X.shape)\n",
        "print(\"shape of the input array y\", y.shape)"
      ],
      "metadata": {
        "colab": {
          "base_uri": "https://localhost:8080/"
        },
        "id": "UbTis0poCDqr",
        "outputId": "131507e0-8d52-4c52-a4bd-4c1eef36f2fc"
      },
      "execution_count": null,
      "outputs": [
        {
          "output_type": "stream",
          "name": "stdout",
          "text": [
            "shape of the input array X (108, 2)\n",
            "shape of the input array y (108,)\n"
          ]
        }
      ]
    },
    {
      "cell_type": "code",
      "source": [
        "theta_best = np.linalg.inv(X.T.dot(X)).dot(X.T).dot(y[::-1])\n",
        "                                           \n",
        "print (\"best fit parameters from the Normal Equation: \" + \n",
        "       \"intercept {:.2f}, slope {:.2f}\".format(*theta_best))"
      ],
      "metadata": {
        "colab": {
          "base_uri": "https://localhost:8080/"
        },
        "id": "sodscAk5IT0x",
        "outputId": "0c4da765-049d-4755-a394-def1b8d8f6a0"
      },
      "execution_count": null,
      "outputs": [
        {
          "output_type": "stream",
          "name": "stdout",
          "text": [
            "best fit parameters from the Normal Equation: intercept 21.87, slope -2.15\n"
          ]
        }
      ]
    },
    {
      "cell_type": "markdown",
      "source": [
        "# Task 2b"
      ],
      "metadata": {
        "id": "dRyaYIORK86N"
      }
    },
    {
      "cell_type": "code",
      "source": [
        "#note: imports should be moved to the top cell - follow PEP8 guidelines\n",
        "from sklearn.linear_model import LinearRegression\n",
        "\n",
        "#sklearn is an object oriented package. You will call the function which will create a model (model selection) then fit it to the data separately (model fitting)\n",
        "\n",
        "lr = LinearRegression()\n",
        "lr.fit(X,y[::-1])\n",
        "       \n",
        "#this will create new properties of the model instance: the intercept and coefficients!\n",
        "\n",
        "print (\"best fit parameters from the sklearn LinearRegression(): \" + \n",
        "       \"intercept {:.2f}, slope {:.2f}\".format(lr.intercept_, lr.coef_[1]))"
      ],
      "metadata": {
        "colab": {
          "base_uri": "https://localhost:8080/"
        },
        "id": "fc-aL2EBJkTT",
        "outputId": "b5a74d27-6537-460a-caf0-b6b735d6901a"
      },
      "execution_count": null,
      "outputs": [
        {
          "output_type": "stream",
          "name": "stdout",
          "text": [
            "best fit parameters from the sklearn LinearRegression(): intercept 21.87, slope -2.15\n"
          ]
        }
      ]
    },
    {
      "cell_type": "markdown",
      "source": [
        "# Task 2c"
      ],
      "metadata": {
        "id": "7XOfSTRTT_0c"
      }
    },
    {
      "cell_type": "code",
      "source": [
        "import numpy as np\n",
        "import scipy as sp"
      ],
      "metadata": {
        "id": "pISIc3TgKLMp"
      },
      "execution_count": null,
      "outputs": []
    },
    {
      "cell_type": "code",
      "source": [
        "#note: imports should be moved to the top cell - follow PEP8 guidelines\n",
        "from scipy.optimize import minimize\n",
        "def line(x, intercept, slope):\n",
        "    \"\"\"\n",
        "    \"\"\"\n",
        "    return x*slope+intercept\n",
        "\n",
        "def l1(args, x, y):\n",
        "    \"\"\"\n",
        "    \"\"\"\n",
        "    a, b = args\n",
        "    return np.sum(np.abs((y - line(x, a, b))))\n",
        "\n",
        "initialGuess = (10, 1) #this can be important, a bad choice can get us stuck in a local minimum. But for this simple problem we can just guess whaetever\n",
        "l1Solution = minimize(l1, initialGuess, args=(x, y))\n",
        "print(l1Solution)\n",
        "print(\"\")\n",
        "print(\"best fit parameters from the minimization of L1: \" +\n",
        "       \"slope {:.2f}, intercept {:.2f}\".format(*l1Solution.x))"
      ],
      "metadata": {
        "colab": {
          "base_uri": "https://localhost:8080/"
        },
        "id": "I4SnSy-vUFBE",
        "outputId": "70734abd-a4b4-4bd8-b12f-15f8417637a3"
      },
      "execution_count": null,
      "outputs": [
        {
          "output_type": "stream",
          "name": "stdout",
          "text": [
            "  message: Desired error not necessarily achieved due to precision loss.\n",
            "  success: False\n",
            "   status: 2\n",
            "      fun: 26.303317772383874\n",
            "        x: [ 8.225e+00  2.641e+00]\n",
            "      nit: 17\n",
            "      jac: [-1.359e-01 -2.094e+00]\n",
            " hess_inv: [[ 1.935e-04 -4.675e-05]\n",
            "            [-4.675e-05  1.132e-05]]\n",
            "     nfev: 391\n",
            "     njev: 125\n",
            "\n",
            "best fit parameters from the minimization of L1: slope 8.23, intercept 2.64\n"
          ]
        }
      ]
    },
    {
      "cell_type": "markdown",
      "source": [
        "# Task 2d"
      ],
      "metadata": {
        "id": "Tur7qsTnWhzT"
      }
    },
    {
      "cell_type": "code",
      "source": [
        "def chi2(args, x, y, s):\n",
        "    a, b = args\n",
        "    return sum(np.power(line(x,b,a)-y,2)) #see notes\n",
        "\n",
        "s = grbAGnu.magerr # assign the uncertainties to s. Its the column names \"magerr\"\n",
        "\n",
        "initialGuess = (10, 1)\n",
        "\n",
        "chi2Solution = minimize(chi2, initialGuess, args=(x, y, s))\n",
        "\n",
        "print(chi2Solution)\n",
        "print(\"\")\n",
        "print(\"best fit parameters from the minimization of the chi squared: \" + \n",
        "       \"slope {:.2f}, intercept {:.2f}\".format(*chi2Solution.x))"
      ],
      "metadata": {
        "colab": {
          "base_uri": "https://localhost:8080/"
        },
        "id": "1fmFPeiNV44F",
        "outputId": "322afbf6-d854-4b0e-92b9-48d78b824cbc"
      },
      "execution_count": null,
      "outputs": [
        {
          "output_type": "stream",
          "name": "stdout",
          "text": [
            "  message: Optimization terminated successfully.\n",
            "  success: True\n",
            "   status: 0\n",
            "      fun: 12.825987500725534\n",
            "        x: [ 2.512e+00  8.583e+00]\n",
            "      nit: 5\n",
            "      jac: [-7.153e-07  1.192e-07]\n",
            " hess_inv: [[ 7.114e-03 -2.030e-02]\n",
            "            [-2.030e-02  6.254e-02]]\n",
            "     nfev: 21\n",
            "     njev: 7\n",
            "\n",
            "best fit parameters from the minimization of the chi squared: slope 2.51, intercept 8.58\n"
          ]
        }
      ]
    },
    {
      "cell_type": "markdown",
      "source": [
        "# Task 3"
      ],
      "metadata": {
        "id": "OjycUxl8XmEn"
      }
    },
    {
      "cell_type": "code",
      "source": [
        "def plotline(x, intercept, slope, legend=None, symbol='-', ax=ax):\n",
        "    \"\"\"\n",
        "    \"\"\"\n",
        "    ax.plot(x,line(x,intercept,slope), ls=symbol, label=legend)\n",
        "\n",
        "newx = np.array([2,6])\n",
        "\n",
        "ax = pl.figure(figsize=(10,10)).add_subplot(111)\n",
        "\n",
        "# plot the datapoints as above as errorbars\n",
        "for f in grbAGnu['filter'].unique():\n",
        "  pl.errorbar(grbAGnu.loc[grbAGnu['filter'] == f].logtime,\n",
        "             grbAGnu[grbAGnu['filter'] == f].mag, fmt='.',\n",
        "             yerr=grbAGnu[grbAGnu['filter'] == f].magerr, label=f)\n",
        "\n",
        "# plot the upperlimits as arrows (see above)\n",
        "for i in grbAG[grbAG.upperlimit == 1].index:\n",
        "  pl.arrow(grbAG.loc[grbAG['filter'] == f].logtime,\n",
        "             grbAG[grbAG['filter'] == f].mag, fmt='.',\n",
        "             yerr=grbAG[grbAG['filter'] == f].magerr, label=f)\n",
        "\n",
        "#plot the models\n",
        "\n",
        "#normal equation\n",
        "plotline(theta_best[0],theta_best[1])\n",
        "         \n",
        "#sklearn\n",
        "plotline(lr.intercept_,lr.coef_)\n",
        "         \n",
        "#minimize L1\n",
        "plotline(l1Solution.x[0],l1Solution.x[1])\n",
        "         \n",
        "#minimize chi2\n",
        "plotline(chi2Solution.x[0],chi2Solution.x[1])\n",
        "\n",
        "#pl.ylim()\n",
        "        \n",
        "#pl.legend()\n",
        "\n",
        "#with the LinearRegression object I can also do\n",
        "#pl.plot(grbAG.logtime, lr.predict(np.c_[np.ones((len(grbAG), 1)), grbAG.logtime]), 'k-')\n",
        "\n",
        "pl.ylim(24.5,11.7)\n",
        "pl.xlim(1.5, 6.5)\n",
        "pl.ylabel(\"magnitude\", fontsize=20)\n",
        "pl.xlabel(\"log time (sec after explosion)\", fontsize=20);"
      ],
      "metadata": {
        "colab": {
          "base_uri": "https://localhost:8080/",
          "height": 819
        },
        "id": "q9MgbjCRXfyQ",
        "outputId": "414dd8d7-a161-4640-a3c2-6aaba87dc56f"
      },
      "execution_count": null,
      "outputs": [
        {
          "output_type": "error",
          "ename": "TypeError",
          "evalue": "ignored",
          "traceback": [
            "\u001b[0;31m---------------------------------------------------------------------------\u001b[0m",
            "\u001b[0;31mTypeError\u001b[0m                                 Traceback (most recent call last)",
            "\u001b[0;32m<ipython-input-13-28d56a564401>\u001b[0m in \u001b[0;36m<module>\u001b[0;34m\u001b[0m\n\u001b[1;32m     16\u001b[0m \u001b[0;31m# plot the upperlimits as arrows (see above)\u001b[0m\u001b[0;34m\u001b[0m\u001b[0;34m\u001b[0m\u001b[0m\n\u001b[1;32m     17\u001b[0m \u001b[0;32mfor\u001b[0m \u001b[0mi\u001b[0m \u001b[0;32min\u001b[0m \u001b[0mgrbAG\u001b[0m\u001b[0;34m[\u001b[0m\u001b[0mgrbAG\u001b[0m\u001b[0;34m.\u001b[0m\u001b[0mupperlimit\u001b[0m \u001b[0;34m==\u001b[0m \u001b[0;36m1\u001b[0m\u001b[0;34m]\u001b[0m\u001b[0;34m.\u001b[0m\u001b[0mindex\u001b[0m\u001b[0;34m:\u001b[0m\u001b[0;34m\u001b[0m\u001b[0;34m\u001b[0m\u001b[0m\n\u001b[0;32m---> 18\u001b[0;31m   pl.arrow(grbAG.loc[grbAG['filter'] == f].logtime,\n\u001b[0m\u001b[1;32m     19\u001b[0m              \u001b[0mgrbAG\u001b[0m\u001b[0;34m[\u001b[0m\u001b[0mgrbAG\u001b[0m\u001b[0;34m[\u001b[0m\u001b[0;34m'filter'\u001b[0m\u001b[0;34m]\u001b[0m \u001b[0;34m==\u001b[0m \u001b[0mf\u001b[0m\u001b[0;34m]\u001b[0m\u001b[0;34m.\u001b[0m\u001b[0mmag\u001b[0m\u001b[0;34m,\u001b[0m \u001b[0mfmt\u001b[0m\u001b[0;34m=\u001b[0m\u001b[0;34m'.'\u001b[0m\u001b[0;34m,\u001b[0m\u001b[0;34m\u001b[0m\u001b[0;34m\u001b[0m\u001b[0m\n\u001b[1;32m     20\u001b[0m              yerr=grbAG[grbAG['filter'] == f].magerr, label=f)\n",
            "\u001b[0;31mTypeError\u001b[0m: arrow() missing 2 required positional arguments: 'dx' and 'dy'"
          ]
        },
        {
          "output_type": "display_data",
          "data": {
            "text/plain": [
              "<Figure size 720x720 with 1 Axes>"
            ],
            "image/png": "[encoded data removed]"
          },
          "metadata": {
            "needs_background": "light"
          }
        }
      ]
    },
    {
      "cell_type": "markdown",
      "source": [
        "# Apendice(?)"
      ],
      "metadata": {
        "id": "fHRO40wufWi6"
      }
    },
    {
      "cell_type": "code",
      "source": [
        "from sklearn.model_selection import train_test_split"
      ],
      "metadata": {
        "id": "nXgsvVM_a0C0"
      },
      "execution_count": null,
      "outputs": []
    },
    {
      "cell_type": "code",
      "source": [
        "x_train, x_test, y_train, y_test, s_train, s_test = train_test_split(x,y,s, test_size=0.25, random_state=42)"
      ],
      "metadata": {
        "id": "kHcDRopUgNBP"
      },
      "execution_count": null,
      "outputs": []
    },
    {
      "cell_type": "code",
      "source": [
        "chi2Solution = minimize(chi2, initialGuess, args=(x_train,y_train,s_train))"
      ],
      "metadata": {
        "id": "rhOj_uCqhCAZ"
      },
      "execution_count": null,
      "outputs": []
    },
    {
      "cell_type": "code",
      "source": [
        "print(chi2Solution)\n",
        "print('')\n",
        "print('best fit parameters from the minimization of the chi squared: ' +\n",
        "      'slope {:')"
      ],
      "metadata": {
        "id": "lqMwysk_hTrq"
      },
      "execution_count": null,
      "outputs": []
    },
    {
      "cell_type": "markdown",
      "source": [
        "# MonteCarlo Markov chains"
      ],
      "metadata": {
        "id": "dGHrzU7BhUQG"
      }
    },
    {
      "cell_type": "code",
      "source": [
        "!pip install emcee"
      ],
      "metadata": {
        "colab": {
          "base_uri": "https://localhost:8080/"
        },
        "id": "_Ml8GNPEhYdd",
        "outputId": "7d0c5769-a8ec-4193-bb61-cead9f60cf80"
      },
      "execution_count": null,
      "outputs": [
        {
          "output_type": "stream",
          "name": "stdout",
          "text": [
            "Looking in indexes: https://pypi.org/simple, https://us-python.pkg.dev/colab-wheels/public/simple/\n",
            "Collecting emcee\n",
            "  Downloading emcee-3.1.4-py2.py3-none-any.whl (46 kB)\n",
            "\u001b[2K     \u001b[90m━━━━━━━━━━━━━━━━━━━━━━━━━━━━━━━━━━━━━━━━\u001b[0m \u001b[32m46.2/46.2 KB\u001b[0m \u001b[31m2.2 MB/s\u001b[0m eta \u001b[36m0:00:00\u001b[0m\n",
            "\u001b[?25hRequirement already satisfied: numpy in /usr/local/lib/python3.9/dist-packages (from emcee) (1.22.4)\n",
            "Installing collected packages: emcee\n",
            "Successfully installed emcee-3.1.4\n"
          ]
        }
      ]
    },
    {
      "cell_type": "code",
      "source": [
        "import emcee"
      ],
      "metadata": {
        "id": "zSpa6tmahq0N"
      },
      "execution_count": null,
      "outputs": []
    },
    {
      "cell_type": "code",
      "source": [
        "!pip install corner"
      ],
      "metadata": {
        "colab": {
          "base_uri": "https://localhost:8080/"
        },
        "id": "R4GBAwaAhxpJ",
        "outputId": "40c0f8e4-0959-473d-96e3-7fbd57eed896"
      },
      "execution_count": null,
      "outputs": [
        {
          "output_type": "stream",
          "name": "stdout",
          "text": [
            "Looking in indexes: https://pypi.org/simple, https://us-python.pkg.dev/colab-wheels/public/simple/\n",
            "Collecting corner\n",
            "  Downloading corner-2.2.1-py3-none-any.whl (15 kB)\n",
            "Requirement already satisfied: matplotlib>=2.1 in /usr/local/lib/python3.9/dist-packages (from corner) (3.7.1)\n",
            "Requirement already satisfied: contourpy>=1.0.1 in /usr/local/lib/python3.9/dist-packages (from matplotlib>=2.1->corner) (1.0.7)\n",
            "Requirement already satisfied: cycler>=0.10 in /usr/local/lib/python3.9/dist-packages (from matplotlib>=2.1->corner) (0.11.0)\n",
            "Requirement already satisfied: pillow>=6.2.0 in /usr/local/lib/python3.9/dist-packages (from matplotlib>=2.1->corner) (8.4.0)\n",
            "Requirement already satisfied: pyparsing>=2.3.1 in /usr/local/lib/python3.9/dist-packages (from matplotlib>=2.1->corner) (3.0.9)\n",
            "Requirement already satisfied: kiwisolver>=1.0.1 in /usr/local/lib/python3.9/dist-packages (from matplotlib>=2.1->corner) (1.4.4)\n",
            "Requirement already satisfied: packaging>=20.0 in /usr/local/lib/python3.9/dist-packages (from matplotlib>=2.1->corner) (23.0)\n",
            "Requirement already satisfied: numpy>=1.20 in /usr/local/lib/python3.9/dist-packages (from matplotlib>=2.1->corner) (1.22.4)\n",
            "Requirement already satisfied: python-dateutil>=2.7 in /usr/local/lib/python3.9/dist-packages (from matplotlib>=2.1->corner) (2.8.2)\n",
            "Requirement already satisfied: importlib-resources>=3.2.0 in /usr/local/lib/python3.9/dist-packages (from matplotlib>=2.1->corner) (5.12.0)\n",
            "Requirement already satisfied: fonttools>=4.22.0 in /usr/local/lib/python3.9/dist-packages (from matplotlib>=2.1->corner) (4.39.2)\n",
            "Requirement already satisfied: zipp>=3.1.0 in /usr/local/lib/python3.9/dist-packages (from importlib-resources>=3.2.0->matplotlib>=2.1->corner) (3.15.0)\n",
            "Requirement already satisfied: six>=1.5 in /usr/local/lib/python3.9/dist-packages (from python-dateutil>=2.7->matplotlib>=2.1->corner) (1.16.0)\n",
            "Installing collected packages: corner\n",
            "Successfully installed corner-2.2.1\n"
          ]
        }
      ]
    },
    {
      "cell_type": "code",
      "source": [
        "import corner"
      ],
      "metadata": {
        "id": "pQqdVKP5hzT1"
      },
      "execution_count": null,
      "outputs": []
    },
    {
      "cell_type": "markdown",
      "source": [
        "# p(a,b | y) $\\propto$ p(y | a,b) * p(a,b)\n",
        "# log(posterior) $\\propto$ log(prior) + log(likelihood)"
      ],
      "metadata": {
        "id": "ePjmzG7IiN41"
      }
    },
    {
      "cell_type": "code",
      "source": [
        "def log_prior(theta):\n",
        "  \"\"\"\n",
        "  \"\"\"\n",
        "  slope, intercept= theta\n",
        "  if slope > 0 and intercept > 0:\n",
        "    return 0\n",
        "  return -np.inf # lo faccio così che non potrò mai massimizzare la likelihood\n",
        "\n",
        "def log_likelihood(theta, x, y, yerr):\n",
        "  slope, intercept = theta\n",
        "  return -np.sum((line(x, intercept, slope) - y)**2 / yerr**2)\n"
      ],
      "metadata": {
        "id": "k7ccn8gqiQq5"
      },
      "execution_count": null,
      "outputs": []
    },
    {
      "cell_type": "code",
      "source": [
        "def log_probability(theta, x, y, yerr):\n",
        "  \"\"\"\n",
        "  \"\"\"\n",
        "  lp = log_prior(theta)\n",
        "  if not np.isfinite(lp):\n",
        "    return -np.inf\n",
        "  return lp + log_likelihood(theta, x, y, yerr)"
      ],
      "metadata": {
        "id": "WsRlRU4GjeWp"
      },
      "execution_count": null,
      "outputs": []
    },
    {
      "cell_type": "code",
      "source": [
        "np.random.seed(324)\n",
        "ig = [1, 10] #initial guess\n",
        "nwalkers = 32\n",
        "ndim = len(ig)\n",
        "pos = np.array(ig) + np.random.randn(nwalkers, ndim)\n",
        "pos.shape"
      ],
      "metadata": {
        "colab": {
          "base_uri": "https://localhost:8080/"
        },
        "id": "fNuvHNx6lM5i",
        "outputId": "aafaae58-770a-46e3-a672-668ab37fb741"
      },
      "execution_count": null,
      "outputs": [
        {
          "output_type": "execute_result",
          "data": {
            "text/plain": [
              "(32, 2)"
            ]
          },
          "metadata": {},
          "execution_count": 33
        }
      ]
    },
    {
      "cell_type": "code",
      "source": [
        "sampler = emcee.EnsembleSampler(nwalkers, ndim, log_probability, args=(x,y,s))"
      ],
      "metadata": {
        "id": "vDK_vC1Imc66"
      },
      "execution_count": null,
      "outputs": []
    },
    {
      "cell_type": "code",
      "source": [
        "sampler.run_mcmc(pos, 5000, progress=True)"
      ],
      "metadata": {
        "colab": {
          "base_uri": "https://localhost:8080/"
        },
        "id": "OS7RRsSRmxkp",
        "outputId": "1ed2ce4a-5853-4058-ca27-3bee2a31fded"
      },
      "execution_count": null,
      "outputs": [
        {
          "output_type": "stream",
          "name": "stderr",
          "text": [
            "  0%|          | 0/5000 [00:00<?, ?it/s]/usr/local/lib/python3.9/dist-packages/emcee/moves/red_blue.py:99: RuntimeWarning: invalid value encountered in double_scalars\n",
            "  lnpdiff = f + nlp - state.log_prob[j]\n",
            "100%|██████████| 5000/5000 [01:43<00:00, 48.31it/s]\n"
          ]
        },
        {
          "output_type": "execute_result",
          "data": {
            "text/plain": [
              "State([[2.48902242 8.57968936]\n",
              " [2.48673586 8.58692387]\n",
              " [2.46641786 8.62625828]\n",
              " [2.44734502 8.69081399]\n",
              " [2.4972184  8.5402413 ]\n",
              " [2.46668961 8.63217114]\n",
              " [2.4933277  8.5691478 ]\n",
              " [2.46870322 8.63262059]\n",
              " [2.50548898 8.54283088]\n",
              " [2.48526497 8.56904918]\n",
              " [2.47579937 8.59491651]\n",
              " [2.48615498 8.59520885]\n",
              " [2.51765604 8.49336725]\n",
              " [2.47138431 8.63839555]\n",
              " [2.46228979 8.65107259]\n",
              " [2.5042955  8.52465807]\n",
              " [2.48658997 8.60201097]\n",
              " [2.48594001 8.59167345]\n",
              " [2.48139433 8.59686413]\n",
              " [2.47918046 8.59466867]\n",
              " [2.47414225 8.60367484]\n",
              " [2.45412194 8.67106492]\n",
              " [2.4668925  8.63882977]\n",
              " [2.4551919  8.65337762]\n",
              " [2.45345874 8.66604747]\n",
              " [2.48295535 8.5940811 ]\n",
              " [2.4842163  8.58703853]\n",
              " [2.47955562 8.60639865]\n",
              " [2.47514864 8.6000089 ]\n",
              " [2.49394912 8.56817888]\n",
              " [2.48575382 8.59216223]\n",
              " [2.46119378 8.64770953]], log_prob=[-317.69494439 -317.65784256 -318.43540996 -320.13885101 -319.06382518\n",
              " -317.94107691 -317.97763107 -317.77298302 -319.67784769 -318.93052386\n",
              " -318.84781742 -318.22043704 -321.04344128 -318.80003703 -318.27456242\n",
              " -319.36967358 -319.52396515 -317.80375563 -317.42620189 -317.71498668\n",
              " -318.26211415 -319.11552756 -317.92377615 -319.89067604 -319.34105394\n",
              " -317.46084201 -317.4742282  -317.56055788 -318.35802749 -318.05784258\n",
              " -317.79756558 -318.35864462], blobs=None, random_state=('MT19937', array([1958324094, 4207599300, 2514487415, 3315067101,   38662232,\n",
              "       2314454104, 3949971380, 1202919215, 3441472273, 2309187507,\n",
              "         73564316,  541636161, 1641673912,  267740464, 2651933044,\n",
              "       1744707031,  466090514, 2953332349, 2013039614,  437982028,\n",
              "       4240597553, 3127797646,  544167834, 2069343809, 3955869720,\n",
              "       4144838523,  522877727,  527261518, 1424162866, 2840997867,\n",
              "       3688079331, 2717344897, 2298322643, 3321905397, 3653380891,\n",
              "        633591169,  887188608,  452925770, 2210592536, 1004332769,\n",
              "       1506984987, 3250621835, 3732518262,  360783694, 2238509409,\n",
              "       2595031996,  301481546, 1806682010,  157390206,  576194411,\n",
              "       3388882789, 2770406533, 3382492986, 3199894813, 3562285081,\n",
              "        338958929, 2646942363, 3719195960, 2732469855,  192614092,\n",
              "       4249044208,  739994009,  836588744, 4017589841, 4242665767,\n",
              "       3031260272, 3342527351,   51984531, 3356898091, 1531146195,\n",
              "        607797191, 3872482298, 1203722823, 3757831682, 2313458178,\n",
              "        616204283, 1650226947, 1702807254,  876353751, 2231465310,\n",
              "       2483348148, 4064701000, 2144433465,   13310832, 4227799151,\n",
              "       1780251889, 2159078105, 2968833153, 1958597566,  332962925,\n",
              "       3359497854,  449472370, 1145330793, 2162793893, 1051809964,\n",
              "       1334322241, 3275056555, 3000982936, 3173056801, 3691608431,\n",
              "        866677340, 2141814200, 3674161392, 2225232244, 3539321919,\n",
              "       2482609386, 3782375154, 3258933981, 1673063212, 1195375701,\n",
              "        219387853,  228814153, 1793669364,   41169353, 2140756621,\n",
              "        627126704, 2271031211, 1957869965, 1029512646, 1836184246,\n",
              "       4128095350, 4090314302, 3255795770, 2347601213,  666046615,\n",
              "       2263732774, 1125806161, 2210579426, 2449171422, 2117685059,\n",
              "       3768801282,  157049401, 3497324920, 1917284329, 3053660135,\n",
              "       1469416452, 2071361711, 3792676242, 3548532669,  943254639,\n",
              "       1257222057, 3360137793,  142986692, 1633004394, 3848558375,\n",
              "        484372161,  724702285, 2741019365,   76120919, 2725824439,\n",
              "         56669400, 2735655193, 2126545946, 3791995109, 3417650445,\n",
              "        327924757, 1328236260, 3938030905, 1530377787, 1080771763,\n",
              "       1311894963, 3042994968, 3524997837, 3898667861, 4042727846,\n",
              "       1546348002, 3172351877, 2384866101, 1293761922, 2763895112,\n",
              "         73793529, 2839043177, 1100313938,  790618452, 3849520481,\n",
              "        395285299, 2605902749, 2169002039, 3613314700, 3017379979,\n",
              "       2196094102, 2758743892, 1272543958, 2503885117, 1844822159,\n",
              "       4080063135, 3118250072, 1514666397,  722636075, 3928821275,\n",
              "        404198959,  571371785, 1472725430, 3148083689,  396791774,\n",
              "       1167602309,  100822840,  656641924,  657489640, 3744436115,\n",
              "        983899250, 1153869777,   34320823, 3924408325,  146037493,\n",
              "       2812772805, 3264779748, 2650600916, 2527992621, 4047086381,\n",
              "       1054043414, 1640801543, 2407327116, 1119471669, 3058405756,\n",
              "       3216263529, 1148217914, 2899319285, 2750157794, 1044231464,\n",
              "       2439371373,  856899276, 3020686822, 2417098968, 2098215328,\n",
              "       2722909617, 1296851308,  570327078,  565980487, 2859718546,\n",
              "       2513870796, 2303007099, 1933948509, 3127417644, 1102800350,\n",
              "       2358478441, 2892065820,  651814945, 2506082916, 3164335918,\n",
              "       2046967729, 1781993151, 1608885518, 3732961819, 3618334512,\n",
              "       2901492003, 3009798611, 2171358003, 2648428013, 2458612823,\n",
              "        739933692, 2562059714, 3527383606, 3651108418, 3956181777,\n",
              "       3444127035,  215775757, 3449723830, 3800266056,  177325734,\n",
              "       1367088186, 4066299349, 3050420476, 2294930433, 2065488220,\n",
              "       2108885432, 2363126551, 2503528108, 1004646299,  370321948,\n",
              "         17414774, 3062273419,  690877915, 1954107085, 1027679310,\n",
              "       1030529976, 1789112936, 2280255281,  244588722, 4169392980,\n",
              "       1055503392,  202578079,  971748871, 2674138820, 1159190778,\n",
              "       2619545006,  237798637, 2676688826,  639799235, 4069348490,\n",
              "       1660507910,  693462886, 2598440073, 1796408687, 3873488099,\n",
              "        596337156, 1677095586, 3428179631,   57480041, 1112820901,\n",
              "       2137824988, 1061281651,  293548095, 3007302649, 2053105511,\n",
              "        607659452, 3738420920, 1843179885, 2850443795, 3981869284,\n",
              "       2081047711,  386439539, 3401383334, 1762899019, 2035702573,\n",
              "        851746302,  401415290,  759686875, 1080213247, 2285423115,\n",
              "       2409903983, 3450645159, 1868050526, 2117802030,  243246118,\n",
              "         67524199, 2503364684, 1368258987,  292508726, 2742665547,\n",
              "       2992781097, 1609018805, 1103100297,  189804924, 2105804354,\n",
              "       3440974295, 1782079207,  474893387, 3661179851, 3818751168,\n",
              "        297343552, 4249848141, 1857463180, 3181263570, 3168341450,\n",
              "        428755928,  673989170, 2283862410,  438386074, 4270337346,\n",
              "       2867947244, 3823317555, 4235834288, 2645253013, 2688418970,\n",
              "       2363388736, 2215168812, 1129272646, 4049234157, 3592253683,\n",
              "       2052987133, 3989395793, 2747842206, 3555354063, 3453064897,\n",
              "       1120825731,  458175342, 1440597566, 2726002364, 2646389270,\n",
              "       2551922297, 4235246592, 3141157557, 3481910025, 1019896317,\n",
              "       2384626457, 2994896694, 1560385628,  487945327, 1716994788,\n",
              "        518096481, 1729560584, 4055250771, 4018091686, 2852893832,\n",
              "       4120430626, 1956225693,  709052389, 4199966696, 2731707414,\n",
              "       3656510339, 1627082493, 1166979997, 1381255357,  970930285,\n",
              "       1987600849,  910332815, 1379772274, 4231707498, 2438245315,\n",
              "       1475367473, 3995404919, 3197792249, 1025290024,  582436076,\n",
              "        941801984, 2197290677, 2067730373, 2061410328, 3350954835,\n",
              "        640912227, 1477637037, 2547236831, 1658265113,  560361007,\n",
              "        240611581, 1059579902, 3416207472,  465170694, 3468382390,\n",
              "       3003727214, 4287234523, 2051515043,  824647116, 3624416390,\n",
              "       1816975560, 3045054122, 1887614495, 4055113985, 3876679721,\n",
              "       3512631160,  257799696, 3882413625, 3597545353, 3394408737,\n",
              "        675470911,  349983142, 3481268239, 1141453294,  692815026,\n",
              "       1270511703, 3948328154, 4274612622, 3697907021, 1899056829,\n",
              "        816154036, 1548164432,  182486614, 3844716136,  440286148,\n",
              "       2191560071,  627854671,  304556155,  274500035, 3900985834,\n",
              "       2417123049,  402605314, 3089367358, 2767068484, 1324058101,\n",
              "       2806892713, 1599127669, 3214959513, 1344084889, 4055507505,\n",
              "       1178740148, 2817201661, 2693939169, 2690918721,  909422052,\n",
              "       1814554170,  566188407,  894280372,  273657356,  453022233,\n",
              "        550165185, 1864815147, 1777028821, 1831319762, 2071396204,\n",
              "       1029005205,   10987906, 1103729819, 1755898293, 2379316987,\n",
              "       4090217847, 2944426996, 4235441366, 1949676427, 4095607566,\n",
              "       3517145366, 2077281619, 2075734407, 4136858189, 3152741500,\n",
              "        835710123, 2196840038, 1616857578, 2783728602, 2174772172,\n",
              "       1474855769, 3508872469,  140896454, 2208549261, 4010051415,\n",
              "       1388528481, 3231244259, 1395720378, 3287378712,  918274947,\n",
              "        140378174,  827586192, 3564550914, 2405313699, 4166552534,\n",
              "       3359722911,  474283390, 3345498265, 4167483319, 2703296899,\n",
              "       1265744224, 2276398737, 1658741410, 4275641027,   84267870,\n",
              "       4283972205, 3013565921,  268288130, 2510473965, 1766899517,\n",
              "       3280970379,  423127444,  200153022, 3205628160, 2916131956,\n",
              "        850630975,   35940382, 3369505742, 3615392584,   71738132,\n",
              "       2832172933, 3476938952,  337043604, 2577222152, 3491353712,\n",
              "       1962877701, 3592158691,  225111185, 2577471540, 3365873787,\n",
              "       1419972974, 3742076024, 3922597092, 3981440317, 2327399358,\n",
              "         51954318, 1643560217, 1908591777, 4259113630, 2809935366,\n",
              "       1210441522, 1630902452,  779361312, 2775342182, 2086815184,\n",
              "       3029594745,   59423574,  253676738,  488492553, 2842654261,\n",
              "       1205257602, 3135374745,  104560590, 1565324242, 1403154529,\n",
              "       2943842083, 3719627051, 1841917943, 1660520849, 3291326535,\n",
              "        538534247,   50845290, 3536950472, 1529189636, 1167604515,\n",
              "       3184103694, 2541032030, 3910634425, 1165476482,  323047782,\n",
              "       1647250355, 1675471753, 2819979567, 1800753263, 3677747480,\n",
              "       3703699402, 3497910540, 3110315270, 2433914886, 3776231015,\n",
              "       3462423817, 2221314842, 1757729651, 2802638552, 1341020711,\n",
              "       3460966692, 2785913607, 2451393076, 3252473292, 1072682267,\n",
              "       2824965719, 3468031114, 2027610721, 1444130833, 4133999953,\n",
              "       3597507350, 1864954840, 3569589174, 1792345891,  812222792,\n",
              "       1361240844, 1406376399, 2119943501, 1277050928], dtype=uint32), 338, 0, 0.0))"
            ]
          },
          "metadata": {},
          "execution_count": 36
        }
      ]
    },
    {
      "cell_type": "code",
      "source": [
        "samples = sampler.get_chain(discard=200, thin=15, flat=True)"
      ],
      "metadata": {
        "id": "7TcJ_el6m__t"
      },
      "execution_count": null,
      "outputs": []
    },
    {
      "cell_type": "code",
      "source": [
        "fig, axes = plt.subplots(ndim, figsize=(10, 7), sharex=True)\n",
        "samples = sampler.get_chain()\n",
        "for i in range(ndim):\n",
        "    ax = axes[i]\n",
        "    ax.plot(samples[:, :, i], 'k', alpha=0.3)\n",
        "    ax.set_xlim(0, len(samples))\n",
        "    ax.yaxis.set_label_coords(-0.1, 0.5)\n",
        "axes[-1].set_xlabel('step number');"
      ],
      "metadata": {
        "colab": {
          "base_uri": "https://localhost:8080/",
          "height": 460
        },
        "id": "lRKzngXVnr01",
        "outputId": "26b12237-93d7-46f4-cf03-0f2c6d068517"
      },
      "execution_count": null,
      "outputs": [
        {
          "output_type": "display_data",
          "data": {
            "text/plain": [
              "<Figure size 720x504 with 2 Axes>"
            ],
            "image/png": "[encoded data removed]"
          },
          "metadata": {
            "needs_background": "light"
          }
        }
      ]
    },
    {
      "cell_type": "code",
      "source": [
        "flat_samples = sampler.get_chain(discard=200, flat=True)"
      ],
      "metadata": {
        "id": "Ilu9wfsHn3PV"
      },
      "execution_count": null,
      "outputs": []
    },
    {
      "cell_type": "code",
      "source": [
        "mcmc = np.zeros((ndim,3 ))\n",
        "for i in range(ndim):\n",
        "  mcmc[i] = np.percentile( flat_samples[:,i], [16,50,84])\n",
        "mcmc"
      ],
      "metadata": {
        "colab": {
          "base_uri": "https://localhost:8080/"
        },
        "id": "2g_wOV-7o8eR",
        "outputId": "85c4b481-67a1-48cb-db9b-cc8ef7ccefce"
      },
      "execution_count": null,
      "outputs": [
        {
          "output_type": "execute_result",
          "data": {
            "text/plain": [
              "array([[2.46613765, 2.48028531, 2.49461418],\n",
              "       [8.55971898, 8.5988642 , 8.63818522]])"
            ]
          },
          "metadata": {},
          "execution_count": 41
        }
      ]
    },
    {
      "cell_type": "code",
      "source": [
        "import corner\n",
        "pl.rcParams['font.size']= 13\n",
        "fig = corner.corner(\n",
        "    flat_samples, labels=['intecept', 'slope'], truths=mcmc[:,1]);"
      ],
      "metadata": {
        "colab": {
          "base_uri": "https://localhost:8080/",
          "height": 382
        },
        "id": "ZxkSLj4ZpWMj",
        "outputId": "2561e62b-8935-49c9-9bc7-67a5dbc2b8e3"
      },
      "execution_count": null,
      "outputs": [
        {
          "output_type": "display_data",
          "data": {
            "text/plain": [
              "<Figure size 396x396 with 4 Axes>"
            ],
            "image/png": "[encoded data removed]"
          },
          "metadata": {
            "needs_background": "light"
          }
        }
      ]
    },
    {
      "cell_type": "code",
      "source": [],
      "metadata": {
        "id": "SBwRTKQDpYwv"
      },
      "execution_count": null,
      "outputs": []
    }
  ]
}