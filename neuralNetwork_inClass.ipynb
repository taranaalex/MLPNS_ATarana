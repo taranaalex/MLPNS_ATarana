{
  "nbformat": 4,
  "nbformat_minor": 0,
  "metadata": {
    "colab": {
      "provenance": [],
      "authorship_tag": "ABX9TyOzVpTurkO5pc7o26OSq1CS",
      "include_colab_link": true
    },
    "kernelspec": {
      "name": "python3",
      "display_name": "Python 3"
    },
    "language_info": {
      "name": "python"
    }
  },
  "cells": [
    {
      "cell_type": "markdown",
      "metadata": {
        "id": "view-in-github",
        "colab_type": "text"
      },
      "source": [
        "<a href=\"https://colab.research.google.com/github/taranaalex/MLPNS_ATarana/blob/main/neuralNetwork_inClass.ipynb\" target=\"_parent\"><img src=\"https://colab.research.google.com/assets/colab-badge.svg\" alt=\"Open In Colab\"/></a>"
      ]
    },
    {
      "cell_type": "code",
      "execution_count": 1,
      "metadata": {
        "id": "XqcJLERnKizp"
      },
      "outputs": [],
      "source": [
        "import numpy as np\n",
        "import pylab as pl"
      ]
    },
    {
      "cell_type": "code",
      "source": [
        "X = np.array(\n",
        "    [[0,0,1],\n",
        "     [1,1,1],\n",
        "     [1,0,1],\n",
        "     [0,1,1]])"
      ],
      "metadata": {
        "id": "f9AE8S11KoKA"
      },
      "execution_count": 2,
      "outputs": []
    },
    {
      "cell_type": "code",
      "source": [
        "pl.imshow(X);\n",
        "pl.axis('off')"
      ],
      "metadata": {
        "colab": {
          "base_uri": "https://localhost:8080/",
          "height": 424
        },
        "id": "tySsoPfZK8JL",
        "outputId": "89370e01-d2d4-441a-8d75-68b8a1390e39"
      },
      "execution_count": 3,
      "outputs": [
        {
          "output_type": "execute_result",
          "data": {
            "text/plain": [
              "(-0.5, 2.5, 3.5, -0.5)"
            ]
          },
          "metadata": {},
          "execution_count": 3
        },
        {
          "output_type": "display_data",
          "data": {
            "text/plain": [
              "<Figure size 640x480 with 1 Axes>"
            ],
            "image/png": "[encoded data removed]"
          },
          "metadata": {}
        }
      ]
    },
    {
      "cell_type": "code",
      "source": [
        "y = np.array([[0,1,1,0]]).T"
      ],
      "metadata": {
        "id": "D9LsqoLaK_el"
      },
      "execution_count": 4,
      "outputs": []
    },
    {
      "cell_type": "code",
      "source": [
        "y"
      ],
      "metadata": {
        "colab": {
          "base_uri": "https://localhost:8080/"
        },
        "id": "Ye0J3GyuLMYG",
        "outputId": "11d1f9a9-2286-4828-b2f9-af1a5751ae85"
      },
      "execution_count": 5,
      "outputs": [
        {
          "output_type": "execute_result",
          "data": {
            "text/plain": [
              "array([[0],\n",
              "       [1],\n",
              "       [1],\n",
              "       [0]])"
            ]
          },
          "metadata": {},
          "execution_count": 5
        }
      ]
    },
    {
      "cell_type": "markdown",
      "source": [
        "# basic architecture: 1 layer (perceptron)\n",
        "4 osservazioni\n",
        "\n",
        "3 neuroni\n",
        "\n",
        "1 layer"
      ],
      "metadata": {
        "id": "BHu67OoMLmBU"
      }
    },
    {
      "cell_type": "code",
      "source": [
        "def sigmoid(x):\n",
        "  return 1. / (1.+ np.exp(-x))"
      ],
      "metadata": {
        "id": "T8JMAnJvLPCy"
      },
      "execution_count": 6,
      "outputs": []
    },
    {
      "cell_type": "code",
      "source": [
        "def dsigmoid(x):\n",
        "  return x * (1. - x)"
      ],
      "metadata": {
        "id": "HkuFVn1hMxGw"
      },
      "execution_count": 7,
      "outputs": []
    },
    {
      "cell_type": "code",
      "source": [
        "pl.plot(sigmoid(np.arange(-10,10,0.1)));"
      ],
      "metadata": {
        "colab": {
          "base_uri": "https://localhost:8080/",
          "height": 430
        },
        "id": "hu5S4pchMOcO",
        "outputId": "f28be859-4ec5-4b57-dd4c-af1d18977122"
      },
      "execution_count": 8,
      "outputs": [
        {
          "output_type": "display_data",
          "data": {
            "text/plain": [
              "<Figure size 640x480 with 1 Axes>"
            ],
            "image/png": "[encoded data removed]"
          },
          "metadata": {}
        }
      ]
    },
    {
      "cell_type": "code",
      "source": [
        "def loss(prediction, target):\n",
        "  return target - prediction"
      ],
      "metadata": {
        "id": "sCCEpHeCMU1Q"
      },
      "execution_count": 9,
      "outputs": []
    },
    {
      "cell_type": "markdown",
      "source": [
        "# Neural network"
      ],
      "metadata": {
        "id": "v5phDZ1oMx38"
      }
    },
    {
      "cell_type": "code",
      "source": [
        "training = 6000 # numero di 'epoche'"
      ],
      "metadata": {
        "id": "7WyjUay8NX7E"
      },
      "execution_count": 10,
      "outputs": []
    },
    {
      "cell_type": "code",
      "source": [
        "# layer of synopses / neurons\n",
        "# 4 x 3 dot 3 x 1\n",
        "np.random.seed(302)\n",
        "loss_output = []\n",
        "# genero un vettore 3x1 di numeri random tra -1 e 1\n",
        "syn0 = 2 * np.random.random((3, 1)) - 1\n",
        "\n",
        "for iter in range(training):\n",
        "  inputLayer = X\n",
        "\n",
        "  # forward propagation\n",
        "  # linear regression (dot product linear algebra solution)\n",
        "  l1 = np.dot(inputLayer, syn0)\n",
        "  # activations\n",
        "  output = sigmoid(l1)\n",
        "  #calculate error\n",
        "  output_error = loss(output, y)\n",
        "  loss_output.append(np.abs(output_error).sum())\n",
        "\n",
        "  # backward propagation\n",
        "  # calculate correction\n",
        "  output_delta = output_error * dsigmoid(output)\n",
        "  # apply correction to weights\n",
        "  syn0 += np.dot(inputLayer.T, output_delta) # backpropagation: correzione sui pesi\n",
        "\n",
        "print('output after training\\n', output)\n",
        "print('output target\\n', y)"
      ],
      "metadata": {
        "colab": {
          "base_uri": "https://localhost:8080/"
        },
        "id": "SBrBsGHVN0l7",
        "outputId": "ce91953c-e5cd-417c-f7a9-2d040f4596ff"
      },
      "execution_count": 11,
      "outputs": [
        {
          "output_type": "stream",
          "name": "stdout",
          "text": [
            "output after training\n",
            " [[0.01254551]\n",
            " [0.98977455]\n",
            " [0.99169035]\n",
            " [0.0101995 ]]\n",
            "output target\n",
            " [[0]\n",
            " [1]\n",
            " [1]\n",
            " [0]]\n"
          ]
        }
      ]
    },
    {
      "cell_type": "code",
      "source": [
        "pl.plot(loss_output, label='output');\n",
        "pl.legend();\n",
        "pl.xlabel('iteration (epoch)');\n",
        "pl.ylabel('global loss');"
      ],
      "metadata": {
        "colab": {
          "base_uri": "https://localhost:8080/",
          "height": 449
        },
        "id": "mAsBlFZcOTce",
        "outputId": "6497b494-a46f-4f1b-bd9c-d0a20b71918b"
      },
      "execution_count": 15,
      "outputs": [
        {
          "output_type": "display_data",
          "data": {
            "text/plain": [
              "<Figure size 640x480 with 1 Axes>"
            ],
            "image/png": "[encoded data removed]"
          },
          "metadata": {}
        }
      ]
    },
    {
      "cell_type": "markdown",
      "source": [
        "# Multi-layer"
      ],
      "metadata": {
        "id": "UcBiwUc6alRJ"
      }
    },
    {
      "cell_type": "code",
      "source": [
        "np.random.seed(302)\n",
        "\n",
        "syn0 = 2*np.random.random((3,5))-1\n",
        "syn1 = 2*np.random.random((5,1))-1\n",
        "\n",
        "loss_output = []\n",
        "loss_hidden = []\n",
        "\n",
        "for iter in range(training):\n",
        "  inputLayer = X\n",
        "\n",
        "  # forward propagation\n",
        "\n",
        "  # primo layer\n",
        "  l1 = np.dot(inputLayer, syn0)\n",
        "  hidden = sigmoid(l1)\n",
        "  hidden_error = loss(hidden, y)\n",
        "\n",
        "  # secondo layer\n",
        "  l2 = np.dot(l1, syn1)\n",
        "  output = sigmoid(l2)\n",
        "\n",
        "  # calcolo errore\n",
        "  output_error = loss(output, y)\n",
        "  loss_hidden.append(np.abs(hidden_error).sum())\n",
        "  loss_output.append(np.abs(output_error).sum())\n",
        "\n",
        "  # backward propagation\n",
        "\n",
        "  # calcolo correzione\n",
        "  output_delta = output_error * dsigmoid(output)\n",
        "  hidden_delta = hidden_error * dsigmoid(hidden)\n",
        "\n",
        "  # correzioni ai pesi\n",
        "  syn0 += np.dot(inputLayer.T, hidden_delta)\n",
        "  syn1 += np.dot(hidden.T, output_delta)\n",
        "\n",
        "print('output after training\\n', output)\n",
        "print('output target\\n', y)"
      ],
      "metadata": {
        "id": "5f_n_R1IO_Fq",
        "colab": {
          "base_uri": "https://localhost:8080/"
        },
        "outputId": "05ea98dd-2ed2-47e9-e0b9-b19cc00ef28c"
      },
      "execution_count": 18,
      "outputs": [
        {
          "output_type": "stream",
          "name": "stdout",
          "text": [
            "output after training\n",
            " [[2.17470255e-04]\n",
            " [9.99854202e-01]\n",
            " [9.99902878e-01]\n",
            " [1.44869827e-04]]\n",
            "output target\n",
            " [[0]\n",
            " [1]\n",
            " [1]\n",
            " [0]]\n"
          ]
        }
      ]
    },
    {
      "cell_type": "code",
      "source": [
        "pl.plot(loss_output,label='output');\n",
        "pl.plot(loss_hidden,label='hidden');\n",
        "pl.legend();\n",
        "pl.xlabel('iteration (epoch)');\n",
        "pl.ylabel('global loss');"
      ],
      "metadata": {
        "colab": {
          "base_uri": "https://localhost:8080/",
          "height": 455
        },
        "id": "0ga25wikapNS",
        "outputId": "1c5fb660-10f5-463e-8ace-c4f07f430b36"
      },
      "execution_count": 19,
      "outputs": [
        {
          "output_type": "display_data",
          "data": {
            "text/plain": [
              "<Figure size 640x480 with 1 Axes>"
            ],
            "image/png": "[encoded data removed]"
          },
          "metadata": {}
        }
      ]
    }
  ]
}